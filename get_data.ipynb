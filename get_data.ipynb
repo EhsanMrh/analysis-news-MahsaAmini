{
 "cells": [
  {
   "cell_type": "code",
   "execution_count": 9,
   "metadata": {},
   "outputs": [],
   "source": [
    "import requests as req\n",
    "import json\n",
    "from tqdm import tqdm\n",
    "import numpy as np\n",
    "import pandas as pd\n",
    "from pandas import json_normalize\n",
    "import time"
   ]
  },
  {
   "cell_type": "markdown",
   "metadata": {},
   "source": [
    "# newsapi"
   ]
  },
  {
   "cell_type": "code",
   "execution_count": 26,
   "metadata": {},
   "outputs": [],
   "source": [
    "url = ('https://newsapi.org/v2/everything?'\n",
    "       'q=iran&'\n",
    "       'from=2022-10-22&'\n",
    "       'sortBy=popularity&'\n",
    "       'apiKey=91ecf4f2bf0844598dcb02efdd1ef8f7')\n",
    "\n",
    "response = req.get(url)"
   ]
  },
  {
   "cell_type": "code",
   "execution_count": 29,
   "metadata": {},
   "outputs": [
    {
     "data": {
      "text/plain": [
       "{'source': {'id': 'reuters', 'name': 'Reuters'},\n",
       " 'author': None,\n",
       " 'title': 'Last of plane crew detained in Argentina reach Venezuela - Reuters',\n",
       " 'description': 'The last five members of an Iran-linked cargo plane grounded in Argentina arrived in Venezuela on Friday, according to footage from Venezuelan state television, after being held in Buenos Aires for nearly four months.',\n",
       " 'url': 'https://www.reuters.com/world/americas/last-plane-crew-detained-argentina-reach-venezuela-2022-10-22/',\n",
       " 'urlToImage': 'https://www.reuters.com/pf/resources/images/reuters/reuters-default.png?d=116',\n",
       " 'publishedAt': '2022-10-22T02:54:00Z',\n",
       " 'content': 'CARACAS, Oct 21 (Reuters) - The last five members of an Iran-linked cargo plane grounded in Argentina arrived in Venezuela on Friday, according to footage from Venezuelan state television, after bein… [+1014 chars]'}"
      ]
     },
     "execution_count": 29,
     "metadata": {},
     "output_type": "execute_result"
    }
   ],
   "source": [
    "newsapi_df = response.json()\n",
    "newsapi_df['articles'][0]"
   ]
  },
  {
   "cell_type": "markdown",
   "metadata": {},
   "source": [
    "# Newscatcher"
   ]
  },
  {
   "cell_type": "code",
   "execution_count": 58,
   "metadata": {},
   "outputs": [],
   "source": [
    "def newscatcher_api(query, page=1):\n",
    "    url = \"https://api.newscatcherapi.com/v2/search\"\n",
    "\n",
    "    querystring = {\"q\": query,\n",
    "                    # \"lang\":\"\",\n",
    "                    \"sort_by\":\"relevancy\",\n",
    "                    \"page\":page,\n",
    "                    \"page_size\": 100}\n",
    "\n",
    "    headers = {\n",
    "        \"x-api-key\": \"pLQCTbmHnQ1si36uRY82ois_LzzNE6MCyo4ZcPk5QUg\"\n",
    "        }\n",
    "\n",
    "    response = req.request(\"GET\", url, headers=headers, params=querystring)\n",
    "    response_json = response.json()\n",
    "    return json_normalize(response_json['articles']) \n"
   ]
  },
  {
   "cell_type": "code",
   "execution_count": 59,
   "metadata": {},
   "outputs": [
    {
     "data": {
      "text/plain": [
       "(100, 19)"
      ]
     },
     "execution_count": 59,
     "metadata": {},
     "output_type": "execute_result"
    }
   ],
   "source": [
    "total_news = newscatcher_api(\"Mahsa Amini\", page=1)\n",
    "total_news.shape"
   ]
  },
  {
   "cell_type": "code",
   "execution_count": 62,
   "metadata": {},
   "outputs": [
    {
     "name": "stderr",
     "output_type": "stream",
     "text": [
      "100%|██████████| 49/49 [02:45<00:00,  3.39s/it]\n"
     ]
    }
   ],
   "source": [
    "for i in tqdm(range(21, 70)):\n",
    "    time.sleep(1)\n",
    "    new_patch = newscatcher_api(\"Mahsa Amini\", i)\n",
    "    total_news = pd.concat([total_news, new_patch], ignore_index=True)"
   ]
  },
  {
   "cell_type": "code",
   "execution_count": 63,
   "metadata": {},
   "outputs": [
    {
     "data": {
      "text/plain": [
       "(5000, 19)"
      ]
     },
     "execution_count": 63,
     "metadata": {},
     "output_type": "execute_result"
    }
   ],
   "source": [
    "total_news.shape"
   ]
  },
  {
   "cell_type": "code",
   "execution_count": 64,
   "metadata": {},
   "outputs": [],
   "source": [
    "total_news.to_excel(\"newscatcher_Mahsa Amini.xlsx\")"
   ]
  },
  {
   "cell_type": "code",
   "execution_count": 54,
   "metadata": {},
   "outputs": [
    {
     "data": {
      "text/html": [
       "<div>\n",
       "<style scoped>\n",
       "    .dataframe tbody tr th:only-of-type {\n",
       "        vertical-align: middle;\n",
       "    }\n",
       "\n",
       "    .dataframe tbody tr th {\n",
       "        vertical-align: top;\n",
       "    }\n",
       "\n",
       "    .dataframe thead th {\n",
       "        text-align: right;\n",
       "    }\n",
       "</style>\n",
       "<table border=\"1\" class=\"dataframe\">\n",
       "  <thead>\n",
       "    <tr style=\"text-align: right;\">\n",
       "      <th></th>\n",
       "      <th>title</th>\n",
       "      <th>author</th>\n",
       "      <th>published_date</th>\n",
       "      <th>published_date_precision</th>\n",
       "      <th>link</th>\n",
       "      <th>clean_url</th>\n",
       "      <th>excerpt</th>\n",
       "      <th>summary</th>\n",
       "      <th>rights</th>\n",
       "      <th>rank</th>\n",
       "      <th>topic</th>\n",
       "      <th>country</th>\n",
       "      <th>language</th>\n",
       "      <th>authors</th>\n",
       "      <th>media</th>\n",
       "      <th>is_opinion</th>\n",
       "      <th>twitter_account</th>\n",
       "      <th>_score</th>\n",
       "      <th>_id</th>\n",
       "    </tr>\n",
       "  </thead>\n",
       "  <tbody>\n",
       "    <tr>\n",
       "      <th>46</th>\n",
       "      <td>UPDATE 1-Iran rejects Biden's support of prote...</td>\n",
       "      <td>Reuters</td>\n",
       "      <td>2022-10-16 07:03:19</td>\n",
       "      <td>full</td>\n",
       "      <td>https://news.yahoo.com/1-iran-rejects-bidens-s...</td>\n",
       "      <td>yahoo.com</td>\n",
       "      <td>Iran rejected as interference in Tehran's stat...</td>\n",
       "      <td>(Adds detail)\\n\\nDUBAI, Oct 16 (Reuters) - Ira...</td>\n",
       "      <td>yahoo.com</td>\n",
       "      <td>31</td>\n",
       "      <td>news</td>\n",
       "      <td>US</td>\n",
       "      <td>en</td>\n",
       "      <td>Reuters</td>\n",
       "      <td>https://s.yimg.com/cv/apiv2/social/images/yaho...</td>\n",
       "      <td>False</td>\n",
       "      <td>@YahooNews</td>\n",
       "      <td>10.295021</td>\n",
       "      <td>383b6e19ede95f9fa9d956d36364a8b2</td>\n",
       "    </tr>\n",
       "    <tr>\n",
       "      <th>37</th>\n",
       "      <td>Iran rejects Biden's support of protests as in...</td>\n",
       "      <td>Reuters</td>\n",
       "      <td>2022-10-16 07:02:01</td>\n",
       "      <td>full</td>\n",
       "      <td>https://news.yahoo.com/iran-rejects-bidens-sup...</td>\n",
       "      <td>yahoo.com</td>\n",
       "      <td>DUBAI (Reuters) -Iran rejected as interference...</td>\n",
       "      <td>DUBAI (Reuters) -Iran rejected as interference...</td>\n",
       "      <td>yahoo.com</td>\n",
       "      <td>31</td>\n",
       "      <td>news</td>\n",
       "      <td>US</td>\n",
       "      <td>en</td>\n",
       "      <td>Reuters</td>\n",
       "      <td>https://s.yimg.com/uu/api/res/1.2/euJaotnvbXe4...</td>\n",
       "      <td>False</td>\n",
       "      <td>@YahooNews</td>\n",
       "      <td>10.327970</td>\n",
       "      <td>a07aa03b8e0a301fc6729eab18049325</td>\n",
       "    </tr>\n",
       "    <tr>\n",
       "      <th>48</th>\n",
       "      <td>Iran withdraws from 2022 Frankfurt Book Fair</td>\n",
       "      <td></td>\n",
       "      <td>2022-10-16 15:15:42</td>\n",
       "      <td>full</td>\n",
       "      <td>https://www.tehrantimes.com/news/477663/Iran-w...</td>\n",
       "      <td>tehrantimes.com</td>\n",
       "      <td>TEHRAN – Iran announced on Sunday that has off...</td>\n",
       "      <td>TEHRAN – Iran announced on Sunday that has off...</td>\n",
       "      <td>tehrantimes.com</td>\n",
       "      <td>8267</td>\n",
       "      <td>news</td>\n",
       "      <td>IR</td>\n",
       "      <td>en</td>\n",
       "      <td></td>\n",
       "      <td>https://media.tehrantimes.com/d/t/2022/10/16/4...</td>\n",
       "      <td>False</td>\n",
       "      <td>None</td>\n",
       "      <td>10.291039</td>\n",
       "      <td>9b82895a6ae0ff3d77d873af09dc99c1</td>\n",
       "    </tr>\n",
       "    <tr>\n",
       "      <th>32</th>\n",
       "      <td>Iran's activists call for a new wave of anti-h...</td>\n",
       "      <td>Deeksha Sharma</td>\n",
       "      <td>2022-10-15 15:11:00</td>\n",
       "      <td>full</td>\n",
       "      <td>https://www.republicworld.com/world-news/rest-...</td>\n",
       "      <td>republicworld.com</td>\n",
       "      <td>Protests in Iran, on Saturday, gained momentum...</td>\n",
       "      <td>Protests in Iran, on Saturday, gained momentum...</td>\n",
       "      <td>republicworld.com</td>\n",
       "      <td>4484</td>\n",
       "      <td>news</td>\n",
       "      <td>US</td>\n",
       "      <td>en</td>\n",
       "      <td>Deeksha Sharma,Republic World</td>\n",
       "      <td>https://img.republicworld.com/republic-prod/st...</td>\n",
       "      <td>False</td>\n",
       "      <td>@republic</td>\n",
       "      <td>10.365080</td>\n",
       "      <td>a975b82eb0a2a58e511ade42b26174b9</td>\n",
       "    </tr>\n",
       "    <tr>\n",
       "      <th>16</th>\n",
       "      <td>Iran slams Biden's ‘interference' during protests</td>\n",
       "      <td>Guardian Nigeria</td>\n",
       "      <td>2022-10-16 09:24:54</td>\n",
       "      <td>full</td>\n",
       "      <td>https://editor.guardian.ng/news/iran-slams-bid...</td>\n",
       "      <td>guardian.ng</td>\n",
       "      <td>Iran shrugged off Sunday what it called US Pre...</td>\n",
       "      <td>Sunday, 16th October 2022 &lt; \\n Iran shrugged o...</td>\n",
       "      <td>guardian.ng</td>\n",
       "      <td>4878</td>\n",
       "      <td>news</td>\n",
       "      <td>NG</td>\n",
       "      <td>en</td>\n",
       "      <td>Guardian Nigeria</td>\n",
       "      <td>https://guardian.ng/wp-content/uploads/2022/09...</td>\n",
       "      <td>False</td>\n",
       "      <td>@GuardianNigeria</td>\n",
       "      <td>10.438862</td>\n",
       "      <td>96c8a8021bb59adbc5d90026b8be2dff</td>\n",
       "    </tr>\n",
       "  </tbody>\n",
       "</table>\n",
       "</div>"
      ],
      "text/plain": [
       "                                                title            author  \\\n",
       "46  UPDATE 1-Iran rejects Biden's support of prote...           Reuters   \n",
       "37  Iran rejects Biden's support of protests as in...           Reuters   \n",
       "48       Iran withdraws from 2022 Frankfurt Book Fair                     \n",
       "32  Iran's activists call for a new wave of anti-h...    Deeksha Sharma   \n",
       "16  Iran slams Biden's ‘interference' during protests  Guardian Nigeria   \n",
       "\n",
       "         published_date published_date_precision  \\\n",
       "46  2022-10-16 07:03:19                     full   \n",
       "37  2022-10-16 07:02:01                     full   \n",
       "48  2022-10-16 15:15:42                     full   \n",
       "32  2022-10-15 15:11:00                     full   \n",
       "16  2022-10-16 09:24:54                     full   \n",
       "\n",
       "                                                 link          clean_url  \\\n",
       "46  https://news.yahoo.com/1-iran-rejects-bidens-s...          yahoo.com   \n",
       "37  https://news.yahoo.com/iran-rejects-bidens-sup...          yahoo.com   \n",
       "48  https://www.tehrantimes.com/news/477663/Iran-w...    tehrantimes.com   \n",
       "32  https://www.republicworld.com/world-news/rest-...  republicworld.com   \n",
       "16  https://editor.guardian.ng/news/iran-slams-bid...        guardian.ng   \n",
       "\n",
       "                                              excerpt  \\\n",
       "46  Iran rejected as interference in Tehran's stat...   \n",
       "37  DUBAI (Reuters) -Iran rejected as interference...   \n",
       "48  TEHRAN – Iran announced on Sunday that has off...   \n",
       "32  Protests in Iran, on Saturday, gained momentum...   \n",
       "16  Iran shrugged off Sunday what it called US Pre...   \n",
       "\n",
       "                                              summary             rights  \\\n",
       "46  (Adds detail)\\n\\nDUBAI, Oct 16 (Reuters) - Ira...          yahoo.com   \n",
       "37  DUBAI (Reuters) -Iran rejected as interference...          yahoo.com   \n",
       "48  TEHRAN – Iran announced on Sunday that has off...    tehrantimes.com   \n",
       "32  Protests in Iran, on Saturday, gained momentum...  republicworld.com   \n",
       "16  Sunday, 16th October 2022 < \\n Iran shrugged o...        guardian.ng   \n",
       "\n",
       "    rank topic country language                        authors  \\\n",
       "46    31  news      US       en                        Reuters   \n",
       "37    31  news      US       en                        Reuters   \n",
       "48  8267  news      IR       en                                  \n",
       "32  4484  news      US       en  Deeksha Sharma,Republic World   \n",
       "16  4878  news      NG       en               Guardian Nigeria   \n",
       "\n",
       "                                                media  is_opinion  \\\n",
       "46  https://s.yimg.com/cv/apiv2/social/images/yaho...       False   \n",
       "37  https://s.yimg.com/uu/api/res/1.2/euJaotnvbXe4...       False   \n",
       "48  https://media.tehrantimes.com/d/t/2022/10/16/4...       False   \n",
       "32  https://img.republicworld.com/republic-prod/st...       False   \n",
       "16  https://guardian.ng/wp-content/uploads/2022/09...       False   \n",
       "\n",
       "     twitter_account     _score                               _id  \n",
       "46        @YahooNews  10.295021  383b6e19ede95f9fa9d956d36364a8b2  \n",
       "37        @YahooNews  10.327970  a07aa03b8e0a301fc6729eab18049325  \n",
       "48              None  10.291039  9b82895a6ae0ff3d77d873af09dc99c1  \n",
       "32         @republic  10.365080  a975b82eb0a2a58e511ade42b26174b9  \n",
       "16  @GuardianNigeria  10.438862  96c8a8021bb59adbc5d90026b8be2dff  "
      ]
     },
     "execution_count": 54,
     "metadata": {},
     "output_type": "execute_result"
    }
   ],
   "source": [
    "total_news.sample(5)"
   ]
  },
  {
   "cell_type": "markdown",
   "metadata": {},
   "source": [
    "# Make a general dataset"
   ]
  },
  {
   "cell_type": "code",
   "execution_count": 10,
   "metadata": {},
   "outputs": [],
   "source": [
    "iran_protests = pd.read_excel(\"OrginalDatasets/newscatcher_iran-protests.xlsx\")\n",
    "mahsa = pd.read_excel(\"OrginalDatasets/newscatcher_Mahsa Amini.xlsx\")\n",
    "mahsa_2 = pd.read_excel(\"OrginalDatasets/newscatcher_Mahsa Amini 2.xlsx\")"
   ]
  },
  {
   "cell_type": "code",
   "execution_count": 13,
   "metadata": {},
   "outputs": [],
   "source": [
    "general_dataset = pd.concat([iran_protests, mahsa, mahsa_2], ignore_index=True)"
   ]
  },
  {
   "cell_type": "code",
   "execution_count": 14,
   "metadata": {},
   "outputs": [
    {
     "data": {
      "text/plain": [
       "(11050, 20)"
      ]
     },
     "execution_count": 14,
     "metadata": {},
     "output_type": "execute_result"
    }
   ],
   "source": [
    "general_dataset.shape"
   ]
  },
  {
   "cell_type": "code",
   "execution_count": 15,
   "metadata": {},
   "outputs": [],
   "source": [
    "general_dataset.to_csv(\"data/general_dataset.csv\")"
   ]
  }
 ],
 "metadata": {
  "kernelspec": {
   "display_name": "Python 3.9.12 ('base')",
   "language": "python",
   "name": "python3"
  },
  "language_info": {
   "codemirror_mode": {
    "name": "ipython",
    "version": 3
   },
   "file_extension": ".py",
   "mimetype": "text/x-python",
   "name": "python",
   "nbconvert_exporter": "python",
   "pygments_lexer": "ipython3",
   "version": "3.9.12"
  },
  "orig_nbformat": 4,
  "vscode": {
   "interpreter": {
    "hash": "341e0318612e13d2caac249865d6880347062171b89016abd70f7ef667022a97"
   }
  }
 },
 "nbformat": 4,
 "nbformat_minor": 2
}
